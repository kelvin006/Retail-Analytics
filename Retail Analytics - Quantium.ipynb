{
 "cells": [
  {
   "cell_type": "markdown",
   "metadata": {},
   "source": [
    "## DATA IMPORTATION"
   ]
  },
  {
   "cell_type": "code",
   "execution_count": 1,
   "metadata": {},
   "outputs": [],
   "source": [
    "#import Transaction Data\n",
    "library(readxl) ## Library for importing excel files"
   ]
  },
  {
   "cell_type": "code",
   "execution_count": 2,
   "metadata": {},
   "outputs": [],
   "source": [
    "trans <- read_excel(file.choose())"
   ]
  },
  {
   "cell_type": "code",
   "execution_count": 3,
   "metadata": {},
   "outputs": [
    {
     "data": {
      "text/html": [
       "<ol class=list-inline>\n",
       "\t<li>264836</li>\n",
       "\t<li>8</li>\n",
       "</ol>\n"
      ],
      "text/latex": [
       "\\begin{enumerate*}\n",
       "\\item 264836\n",
       "\\item 8\n",
       "\\end{enumerate*}\n"
      ],
      "text/markdown": [
       "1. 264836\n",
       "2. 8\n",
       "\n",
       "\n"
      ],
      "text/plain": [
       "[1] 264836      8"
      ]
     },
     "metadata": {},
     "output_type": "display_data"
    }
   ],
   "source": [
    "## Dimension of trans Data\n",
    "dim(trans)"
   ]
  },
  {
   "cell_type": "code",
   "execution_count": 4,
   "metadata": {},
   "outputs": [
    {
     "name": "stdout",
     "output_type": "stream",
     "text": [
      "tibble [264,836 x 8] (S3: tbl_df/tbl/data.frame)\n",
      " $ DATE          : POSIXct[1:264836], format: \"2018-10-17\" \"2019-05-14\" ...\n",
      " $ STORE_NBR     : num [1:264836] 1 1 1 2 2 4 4 4 5 7 ...\n",
      " $ LYLTY_CARD_NBR: num [1:264836] 1000 1307 1343 2373 2426 ...\n",
      " $ TXN_ID        : num [1:264836] 1 348 383 974 1038 ...\n",
      " $ PROD_NBR      : num [1:264836] 5 66 61 69 108 57 16 24 42 52 ...\n",
      " $ PROD_NAME     : chr [1:264836] \"Natural Chip        Compny SeaSalt175g\" \"CCs Nacho Cheese    175g\" \"Smiths Crinkle Cut  Chips Chicken 170g\" \"Smiths Chip Thinly  S/Cream&Onion 175g\" ...\n",
      " $ PROD_QTY      : num [1:264836] 2 3 2 5 3 1 1 1 1 2 ...\n",
      " $ TOT_SALES     : num [1:264836] 6 6.3 2.9 15 13.8 5.1 5.7 3.6 3.9 7.2 ...\n"
     ]
    }
   ],
   "source": [
    "## structure of trans data\n",
    "str(trans)"
   ]
  },
  {
   "cell_type": "code",
   "execution_count": 5,
   "metadata": {},
   "outputs": [
    {
     "data": {
      "text/plain": [
       "      DATE                       STORE_NBR     LYLTY_CARD_NBR   \n",
       " Min.   :2018-07-01 00:00:00   Min.   :  1.0   Min.   :   1000  \n",
       " 1st Qu.:2018-09-30 00:00:00   1st Qu.: 70.0   1st Qu.:  70021  \n",
       " Median :2018-12-30 00:00:00   Median :130.0   Median : 130358  \n",
       " Mean   :2018-12-30 00:52:12   Mean   :135.1   Mean   : 135550  \n",
       " 3rd Qu.:2019-03-31 00:00:00   3rd Qu.:203.0   3rd Qu.: 203094  \n",
       " Max.   :2019-06-30 00:00:00   Max.   :272.0   Max.   :2373711  \n",
       "     TXN_ID           PROD_NBR       PROD_NAME            PROD_QTY      \n",
       " Min.   :      1   Min.   :  1.00   Length:264836      Min.   :  1.000  \n",
       " 1st Qu.:  67602   1st Qu.: 28.00   Class :character   1st Qu.:  2.000  \n",
       " Median : 135138   Median : 56.00   Mode  :character   Median :  2.000  \n",
       " Mean   : 135158   Mean   : 56.58                      Mean   :  1.907  \n",
       " 3rd Qu.: 202701   3rd Qu.: 85.00                      3rd Qu.:  2.000  \n",
       " Max.   :2415841   Max.   :114.00                      Max.   :200.000  \n",
       "   TOT_SALES      \n",
       " Min.   :  1.500  \n",
       " 1st Qu.:  5.400  \n",
       " Median :  7.400  \n",
       " Mean   :  7.304  \n",
       " 3rd Qu.:  9.200  \n",
       " Max.   :650.000  "
      ]
     },
     "metadata": {},
     "output_type": "display_data"
    }
   ],
   "source": [
    "## summary of trans data\n",
    "summary(trans)"
   ]
  },
  {
   "cell_type": "markdown",
   "metadata": {},
   "source": [
    "Looks like there is an outlier. Let's investigate further"
   ]
  },
  {
   "cell_type": "markdown",
   "metadata": {},
   "source": [
    "## DATA CLEANING"
   ]
  },
  {
   "cell_type": "code",
   "execution_count": 6,
   "metadata": {},
   "outputs": [
    {
     "name": "stderr",
     "output_type": "stream",
     "text": [
      "Warning message:\n",
      "\"package 'dplyr' was built under R version 3.6.3\"\n",
      "Attaching package: 'dplyr'\n",
      "\n",
      "The following objects are masked from 'package:stats':\n",
      "\n",
      "    filter, lag\n",
      "\n",
      "The following objects are masked from 'package:base':\n",
      "\n",
      "    intersect, setdiff, setequal, union\n",
      "\n"
     ]
    }
   ],
   "source": [
    "# Inspect and remove outlier\n",
    "library(dplyr) #Package for data wrangling"
   ]
  },
  {
   "cell_type": "code",
   "execution_count": 7,
   "metadata": {},
   "outputs": [
    {
     "data": {
      "text/html": [
       "<table>\n",
       "<thead><tr><th scope=col>DATE</th><th scope=col>STORE_NBR</th><th scope=col>LYLTY_CARD_NBR</th><th scope=col>TXN_ID</th><th scope=col>PROD_NBR</th><th scope=col>PROD_NAME</th><th scope=col>PROD_QTY</th><th scope=col>TOT_SALES</th></tr></thead>\n",
       "<tbody>\n",
       "\t<tr><td>2018-08-19                      </td><td>226                             </td><td>226000                          </td><td>226201                          </td><td>4                               </td><td>Dorito Corn Chp     Supreme 380g</td><td>200                             </td><td>650                             </td></tr>\n",
       "\t<tr><td>2019-05-20                      </td><td>226                             </td><td>226000                          </td><td>226210                          </td><td>4                               </td><td>Dorito Corn Chp     Supreme 380g</td><td>200                             </td><td>650                             </td></tr>\n",
       "</tbody>\n",
       "</table>\n"
      ],
      "text/latex": [
       "\\begin{tabular}{r|llllllll}\n",
       " DATE & STORE\\_NBR & LYLTY\\_CARD\\_NBR & TXN\\_ID & PROD\\_NBR & PROD\\_NAME & PROD\\_QTY & TOT\\_SALES\\\\\n",
       "\\hline\n",
       "\t 2018-08-19                       & 226                              & 226000                           & 226201                           & 4                                & Dorito Corn Chp     Supreme 380g & 200                              & 650                             \\\\\n",
       "\t 2019-05-20                       & 226                              & 226000                           & 226210                           & 4                                & Dorito Corn Chp     Supreme 380g & 200                              & 650                             \\\\\n",
       "\\end{tabular}\n"
      ],
      "text/markdown": [
       "\n",
       "| DATE | STORE_NBR | LYLTY_CARD_NBR | TXN_ID | PROD_NBR | PROD_NAME | PROD_QTY | TOT_SALES |\n",
       "|---|---|---|---|---|---|---|---|\n",
       "| 2018-08-19                       | 226                              | 226000                           | 226201                           | 4                                | Dorito Corn Chp     Supreme 380g | 200                              | 650                              |\n",
       "| 2019-05-20                       | 226                              | 226000                           | 226210                           | 4                                | Dorito Corn Chp     Supreme 380g | 200                              | 650                              |\n",
       "\n"
      ],
      "text/plain": [
       "  DATE       STORE_NBR LYLTY_CARD_NBR TXN_ID PROD_NBR\n",
       "1 2018-08-19 226       226000         226201 4       \n",
       "2 2019-05-20 226       226000         226210 4       \n",
       "  PROD_NAME                        PROD_QTY TOT_SALES\n",
       "1 Dorito Corn Chp     Supreme 380g 200      650      \n",
       "2 Dorito Corn Chp     Supreme 380g 200      650      "
      ]
     },
     "metadata": {},
     "output_type": "display_data"
    }
   ],
   "source": [
    "trans %>% filter(TOT_SALES == 650)"
   ]
  },
  {
   "cell_type": "code",
   "execution_count": 8,
   "metadata": {},
   "outputs": [],
   "source": [
    "trans <- trans %>% filter(TOT_SALES != 650) #drop the rows with outlier"
   ]
  },
  {
   "cell_type": "code",
   "execution_count": 9,
   "metadata": {},
   "outputs": [
    {
     "data": {
      "text/plain": [
       "      DATE                       STORE_NBR     LYLTY_CARD_NBR   \n",
       " Min.   :2018-07-01 00:00:00   Min.   :  1.0   Min.   :   1000  \n",
       " 1st Qu.:2018-09-30 00:00:00   1st Qu.: 70.0   1st Qu.:  70021  \n",
       " Median :2018-12-30 00:00:00   Median :130.0   Median : 130357  \n",
       " Mean   :2018-12-30 00:52:10   Mean   :135.1   Mean   : 135549  \n",
       " 3rd Qu.:2019-03-31 00:00:00   3rd Qu.:203.0   3rd Qu.: 203094  \n",
       " Max.   :2019-06-30 00:00:00   Max.   :272.0   Max.   :2373711  \n",
       "     TXN_ID           PROD_NBR       PROD_NAME            PROD_QTY    \n",
       " Min.   :      1   Min.   :  1.00   Length:264834      Min.   :1.000  \n",
       " 1st Qu.:  67601   1st Qu.: 28.00   Class :character   1st Qu.:2.000  \n",
       " Median : 135137   Median : 56.00   Mode  :character   Median :2.000  \n",
       " Mean   : 135158   Mean   : 56.58                      Mean   :1.906  \n",
       " 3rd Qu.: 202700   3rd Qu.: 85.00                      3rd Qu.:2.000  \n",
       " Max.   :2415841   Max.   :114.00                      Max.   :5.000  \n",
       "   TOT_SALES     \n",
       " Min.   : 1.500  \n",
       " 1st Qu.: 5.400  \n",
       " Median : 7.400  \n",
       " Mean   : 7.299  \n",
       " 3rd Qu.: 9.200  \n",
       " Max.   :29.500  "
      ]
     },
     "metadata": {},
     "output_type": "display_data"
    }
   ],
   "source": [
    "summary(trans) #inspect dataset again"
   ]
  },
  {
   "cell_type": "markdown",
   "metadata": {},
   "source": [
    "Looks better!!!"
   ]
  },
  {
   "cell_type": "code",
   "execution_count": 10,
   "metadata": {},
   "outputs": [
    {
     "name": "stdout",
     "output_type": "stream",
     "text": [
      "tibble [264,834 x 2] (S3: tbl_df/tbl/data.frame)\n",
      " $ STORE_NBR     : Factor w/ 272 levels \"1\",\"2\",\"3\",\"4\",..: 1 1 1 2 2 4 4 4 5 7 ...\n",
      " $ LYLTY_CARD_NBR: Factor w/ 72636 levels \"1000\",\"1002\",..: 1 204 225 580 615 1097 1172 1219 1428 2117 ...\n"
     ]
    }
   ],
   "source": [
    "## Convert Store Number and Loyalty Card number Column to categorical variable\n",
    "trans$STORE_NBR <- as.factor(trans$STORE_NBR)\n",
    "trans$LYLTY_CARD_NBR <- as.factor(trans$LYLTY_CARD_NBR)\n",
    "str(trans[2:3])"
   ]
  },
  {
   "cell_type": "code",
   "execution_count": 11,
   "metadata": {},
   "outputs": [
    {
     "data": {
      "text/html": [
       "<table>\n",
       "<thead><tr><th scope=col>LYLTY_CARD_NBR</th><th scope=col>LIFESTAGE</th><th scope=col>PREMIUM_CUSTOMER</th></tr></thead>\n",
       "<tbody>\n",
       "\t<tr><td>1000                  </td><td>YOUNG SINGLES/COUPLES </td><td>Premium               </td></tr>\n",
       "\t<tr><td>1002                  </td><td>YOUNG SINGLES/COUPLES </td><td>Mainstream            </td></tr>\n",
       "\t<tr><td>1003                  </td><td>YOUNG FAMILIES        </td><td>Budget                </td></tr>\n",
       "\t<tr><td>1004                  </td><td>OLDER SINGLES/COUPLES </td><td>Mainstream            </td></tr>\n",
       "\t<tr><td>1005                  </td><td>MIDAGE SINGLES/COUPLES</td><td>Mainstream            </td></tr>\n",
       "\t<tr><td>1007                  </td><td>YOUNG SINGLES/COUPLES </td><td>Budget                </td></tr>\n",
       "</tbody>\n",
       "</table>\n"
      ],
      "text/latex": [
       "\\begin{tabular}{r|lll}\n",
       " LYLTY\\_CARD\\_NBR & LIFESTAGE & PREMIUM\\_CUSTOMER\\\\\n",
       "\\hline\n",
       "\t 1000                   & YOUNG SINGLES/COUPLES  & Premium               \\\\\n",
       "\t 1002                   & YOUNG SINGLES/COUPLES  & Mainstream            \\\\\n",
       "\t 1003                   & YOUNG FAMILIES         & Budget                \\\\\n",
       "\t 1004                   & OLDER SINGLES/COUPLES  & Mainstream            \\\\\n",
       "\t 1005                   & MIDAGE SINGLES/COUPLES & Mainstream            \\\\\n",
       "\t 1007                   & YOUNG SINGLES/COUPLES  & Budget                \\\\\n",
       "\\end{tabular}\n"
      ],
      "text/markdown": [
       "\n",
       "| LYLTY_CARD_NBR | LIFESTAGE | PREMIUM_CUSTOMER |\n",
       "|---|---|---|\n",
       "| 1000                   | YOUNG SINGLES/COUPLES  | Premium                |\n",
       "| 1002                   | YOUNG SINGLES/COUPLES  | Mainstream             |\n",
       "| 1003                   | YOUNG FAMILIES         | Budget                 |\n",
       "| 1004                   | OLDER SINGLES/COUPLES  | Mainstream             |\n",
       "| 1005                   | MIDAGE SINGLES/COUPLES | Mainstream             |\n",
       "| 1007                   | YOUNG SINGLES/COUPLES  | Budget                 |\n",
       "\n"
      ],
      "text/plain": [
       "  LYLTY_CARD_NBR LIFESTAGE              PREMIUM_CUSTOMER\n",
       "1 1000           YOUNG SINGLES/COUPLES  Premium         \n",
       "2 1002           YOUNG SINGLES/COUPLES  Mainstream      \n",
       "3 1003           YOUNG FAMILIES         Budget          \n",
       "4 1004           OLDER SINGLES/COUPLES  Mainstream      \n",
       "5 1005           MIDAGE SINGLES/COUPLES Mainstream      \n",
       "6 1007           YOUNG SINGLES/COUPLES  Budget          "
      ]
     },
     "metadata": {},
     "output_type": "display_data"
    }
   ],
   "source": [
    "# import Customer Data\n",
    "cust <- read.csv(file.choose())\n",
    "head(cust)"
   ]
  },
  {
   "cell_type": "code",
   "execution_count": 12,
   "metadata": {},
   "outputs": [
    {
     "data": {
      "text/html": [
       "<ol class=list-inline>\n",
       "\t<li>72637</li>\n",
       "\t<li>3</li>\n",
       "</ol>\n"
      ],
      "text/latex": [
       "\\begin{enumerate*}\n",
       "\\item 72637\n",
       "\\item 3\n",
       "\\end{enumerate*}\n"
      ],
      "text/markdown": [
       "1. 72637\n",
       "2. 3\n",
       "\n",
       "\n"
      ],
      "text/plain": [
       "[1] 72637     3"
      ]
     },
     "metadata": {},
     "output_type": "display_data"
    }
   ],
   "source": [
    "dim(cust) # Dimension of customer Data"
   ]
  },
  {
   "cell_type": "code",
   "execution_count": 13,
   "metadata": {},
   "outputs": [
    {
     "name": "stdout",
     "output_type": "stream",
     "text": [
      "'data.frame':\t72637 obs. of  3 variables:\n",
      " $ LYLTY_CARD_NBR  : int  1000 1002 1003 1004 1005 1007 1009 1010 1011 1012 ...\n",
      " $ LIFESTAGE       : Factor w/ 7 levels \"MIDAGE SINGLES/COUPLES\",..: 7 7 6 4 1 7 2 7 4 3 ...\n",
      " $ PREMIUM_CUSTOMER: Factor w/ 3 levels \"Budget\",\"Mainstream\",..: 3 2 1 2 2 1 3 2 2 2 ...\n"
     ]
    }
   ],
   "source": [
    "str(cust)# Structure of customer Data"
   ]
  },
  {
   "cell_type": "markdown",
   "metadata": {},
   "source": [
    "## EXPLORATORY DATA ANALYSIS"
   ]
  },
  {
   "cell_type": "code",
   "execution_count": 20,
   "metadata": {},
   "outputs": [],
   "source": [
    "## Convert Loyalty card number column to categorical variable in cust dataset\n",
    "cust$LYLTY_CARD_NBR <- factor(cust$LYLTY_CARD_NBR)"
   ]
  },
  {
   "cell_type": "code",
   "execution_count": 25,
   "metadata": {},
   "outputs": [],
   "source": [
    "df <- inner_join(trans, cust, by = 'LYLTY_CARD_NBR') ## Join the data sets using inner_join"
   ]
  },
  {
   "cell_type": "code",
   "execution_count": 26,
   "metadata": {},
   "outputs": [
    {
     "data": {
      "text/html": [
       "<table>\n",
       "<thead><tr><th scope=col>DATE</th><th scope=col>STORE_NBR</th><th scope=col>LYLTY_CARD_NBR</th><th scope=col>TXN_ID</th><th scope=col>PROD_NBR</th><th scope=col>PROD_NAME</th><th scope=col>PROD_QTY</th><th scope=col>TOT_SALES</th><th scope=col>LIFESTAGE</th><th scope=col>PREMIUM_CUSTOMER</th></tr></thead>\n",
       "<tbody>\n",
       "\t<tr><td>2018-10-17                              </td><td>1                                       </td><td>1000                                    </td><td>   1                                    </td><td>  5                                     </td><td>Natural Chip        Compny SeaSalt175g  </td><td>2                                       </td><td> 6.0                                    </td><td>YOUNG SINGLES/COUPLES                   </td><td>Premium                                 </td></tr>\n",
       "\t<tr><td>2019-05-14                              </td><td>1                                       </td><td>1307                                    </td><td> 348                                    </td><td> 66                                     </td><td>CCs Nacho Cheese    175g                </td><td>3                                       </td><td> 6.3                                    </td><td>MIDAGE SINGLES/COUPLES                  </td><td>Budget                                  </td></tr>\n",
       "\t<tr><td>2019-05-20                              </td><td>1                                       </td><td>1343                                    </td><td> 383                                    </td><td> 61                                     </td><td>Smiths Crinkle Cut  Chips Chicken 170g  </td><td>2                                       </td><td> 2.9                                    </td><td>MIDAGE SINGLES/COUPLES                  </td><td>Budget                                  </td></tr>\n",
       "\t<tr><td>2018-08-17                                                                          </td><td>2                                                                                   </td><td>2373                                                                                </td><td> 974                                                                                </td><td> 69                                                                                 </td><td><span style=white-space:pre-wrap>Smiths Chip Thinly  S/Cream&amp;Onion 175g  </span></td><td>5                                                                                   </td><td>15.0                                                                                </td><td>MIDAGE SINGLES/COUPLES                                                              </td><td>Budget                                                                              </td></tr>\n",
       "\t<tr><td>2018-08-18                                  </td><td>2                                           </td><td>2426                                        </td><td>1038                                        </td><td>108                                         </td><td>Kettle Tortilla ChpsHny&amp;Jlpno Chili 150g</td><td>3                                           </td><td>13.8                                        </td><td>MIDAGE SINGLES/COUPLES                      </td><td>Budget                                      </td></tr>\n",
       "\t<tr><td>2019-05-19                              </td><td>4                                       </td><td>4074                                    </td><td>2982                                    </td><td> 57                                     </td><td>Old El Paso Salsa   Dip Tomato Mild 300g</td><td>1                                       </td><td> 5.1                                    </td><td>MIDAGE SINGLES/COUPLES                  </td><td>Budget                                  </td></tr>\n",
       "</tbody>\n",
       "</table>\n"
      ],
      "text/latex": [
       "\\begin{tabular}{r|llllllllll}\n",
       " DATE & STORE\\_NBR & LYLTY\\_CARD\\_NBR & TXN\\_ID & PROD\\_NBR & PROD\\_NAME & PROD\\_QTY & TOT\\_SALES & LIFESTAGE & PREMIUM\\_CUSTOMER\\\\\n",
       "\\hline\n",
       "\t 2018-10-17                               & 1                                        & 1000                                     &    1                                     &   5                                      & Natural Chip        Compny SeaSalt175g   & 2                                        &  6.0                                     & YOUNG SINGLES/COUPLES                    & Premium                                 \\\\\n",
       "\t 2019-05-14                               & 1                                        & 1307                                     &  348                                     &  66                                      & CCs Nacho Cheese    175g                 & 3                                        &  6.3                                     & MIDAGE SINGLES/COUPLES                   & Budget                                  \\\\\n",
       "\t 2019-05-20                               & 1                                        & 1343                                     &  383                                     &  61                                      & Smiths Crinkle Cut  Chips Chicken 170g   & 2                                        &  2.9                                     & MIDAGE SINGLES/COUPLES                   & Budget                                  \\\\\n",
       "\t 2018-08-17                                 & 2                                          & 2373                                       &  974                                       &  69                                        & Smiths Chip Thinly  S/Cream\\&Onion 175g   & 5                                          & 15.0                                       & MIDAGE SINGLES/COUPLES                     & Budget                                    \\\\\n",
       "\t 2018-08-18                                 & 2                                          & 2426                                       & 1038                                       & 108                                        & Kettle Tortilla ChpsHny\\&Jlpno Chili 150g & 3                                          & 13.8                                       & MIDAGE SINGLES/COUPLES                     & Budget                                    \\\\\n",
       "\t 2019-05-19                               & 4                                        & 4074                                     & 2982                                     &  57                                      & Old El Paso Salsa   Dip Tomato Mild 300g & 1                                        &  5.1                                     & MIDAGE SINGLES/COUPLES                   & Budget                                  \\\\\n",
       "\\end{tabular}\n"
      ],
      "text/markdown": [
       "\n",
       "| DATE | STORE_NBR | LYLTY_CARD_NBR | TXN_ID | PROD_NBR | PROD_NAME | PROD_QTY | TOT_SALES | LIFESTAGE | PREMIUM_CUSTOMER |\n",
       "|---|---|---|---|---|---|---|---|---|---|\n",
       "| 2018-10-17                               | 1                                        | 1000                                     |    1                                     |   5                                      | Natural Chip        Compny SeaSalt175g   | 2                                        |  6.0                                     | YOUNG SINGLES/COUPLES                    | Premium                                  |\n",
       "| 2019-05-14                               | 1                                        | 1307                                     |  348                                     |  66                                      | CCs Nacho Cheese    175g                 | 3                                        |  6.3                                     | MIDAGE SINGLES/COUPLES                   | Budget                                   |\n",
       "| 2019-05-20                               | 1                                        | 1343                                     |  383                                     |  61                                      | Smiths Crinkle Cut  Chips Chicken 170g   | 2                                        |  2.9                                     | MIDAGE SINGLES/COUPLES                   | Budget                                   |\n",
       "| 2018-08-17                               | 2                                        | 2373                                     |  974                                     |  69                                      | Smiths Chip Thinly  S/Cream&Onion 175g   | 5                                        | 15.0                                     | MIDAGE SINGLES/COUPLES                   | Budget                                   |\n",
       "| 2018-08-18                               | 2                                        | 2426                                     | 1038                                     | 108                                      | Kettle Tortilla ChpsHny&Jlpno Chili 150g | 3                                        | 13.8                                     | MIDAGE SINGLES/COUPLES                   | Budget                                   |\n",
       "| 2019-05-19                               | 4                                        | 4074                                     | 2982                                     |  57                                      | Old El Paso Salsa   Dip Tomato Mild 300g | 1                                        |  5.1                                     | MIDAGE SINGLES/COUPLES                   | Budget                                   |\n",
       "\n"
      ],
      "text/plain": [
       "  DATE       STORE_NBR LYLTY_CARD_NBR TXN_ID PROD_NBR\n",
       "1 2018-10-17 1         1000              1     5     \n",
       "2 2019-05-14 1         1307            348    66     \n",
       "3 2019-05-20 1         1343            383    61     \n",
       "4 2018-08-17 2         2373            974    69     \n",
       "5 2018-08-18 2         2426           1038   108     \n",
       "6 2019-05-19 4         4074           2982    57     \n",
       "  PROD_NAME                                PROD_QTY TOT_SALES\n",
       "1 Natural Chip        Compny SeaSalt175g   2         6.0     \n",
       "2 CCs Nacho Cheese    175g                 3         6.3     \n",
       "3 Smiths Crinkle Cut  Chips Chicken 170g   2         2.9     \n",
       "4 Smiths Chip Thinly  S/Cream&Onion 175g   5        15.0     \n",
       "5 Kettle Tortilla ChpsHny&Jlpno Chili 150g 3        13.8     \n",
       "6 Old El Paso Salsa   Dip Tomato Mild 300g 1         5.1     \n",
       "  LIFESTAGE              PREMIUM_CUSTOMER\n",
       "1 YOUNG SINGLES/COUPLES  Premium         \n",
       "2 MIDAGE SINGLES/COUPLES Budget          \n",
       "3 MIDAGE SINGLES/COUPLES Budget          \n",
       "4 MIDAGE SINGLES/COUPLES Budget          \n",
       "5 MIDAGE SINGLES/COUPLES Budget          \n",
       "6 MIDAGE SINGLES/COUPLES Budget          "
      ]
     },
     "metadata": {},
     "output_type": "display_data"
    }
   ],
   "source": [
    "head(df)"
   ]
  },
  {
   "cell_type": "code",
   "execution_count": 27,
   "metadata": {},
   "outputs": [
    {
     "data": {
      "text/plain": [
       "      DATE                       STORE_NBR      LYLTY_CARD_NBR  \n",
       " Min.   :2018-07-01 00:00:00   226    :  2020   162039 :    18  \n",
       " 1st Qu.:2018-09-30 00:00:00   88     :  1873   172032 :    18  \n",
       " Median :2018-12-30 00:00:00   93     :  1832   13138  :    17  \n",
       " Mean   :2018-12-30 00:52:33   165    :  1819   116181 :    17  \n",
       " 3rd Qu.:2019-03-31 00:00:00   237    :  1785   128178 :    17  \n",
       " Max.   :2019-06-30 00:00:00   43     :  1771   230078 :    17  \n",
       "                               (Other):253728   (Other):264724  \n",
       "     TXN_ID           PROD_NBR       PROD_NAME            PROD_QTY    \n",
       " Min.   :      1   Min.   :  1.00   Length:264828      Min.   :1.000  \n",
       " 1st Qu.:  67599   1st Qu.: 28.00   Class :character   1st Qu.:2.000  \n",
       " Median : 135139   Median : 56.00   Mode  :character   Median :2.000  \n",
       " Mean   : 135158   Mean   : 56.58                      Mean   :1.906  \n",
       " 3rd Qu.: 202701   3rd Qu.: 85.00                      3rd Qu.:2.000  \n",
       " Max.   :2415841   Max.   :114.00                      Max.   :5.000  \n",
       "                                                                      \n",
       "   TOT_SALES                       LIFESTAGE       PREMIUM_CUSTOMER \n",
       " Min.   : 1.500   MIDAGE SINGLES/COUPLES:25110   Budget    : 93157  \n",
       " 1st Qu.: 5.400   NEW FAMILIES          : 6919   Mainstream:101982  \n",
       " Median : 7.400   OLDER FAMILIES        :48594   Premium   : 69689  \n",
       " Mean   : 7.299   OLDER SINGLES/COUPLES :54478                      \n",
       " 3rd Qu.: 9.200   RETIREES              :49758                      \n",
       " Max.   :29.500   YOUNG FAMILIES        :43592                      \n",
       "                  YOUNG SINGLES/COUPLES :36377                      "
      ]
     },
     "metadata": {},
     "output_type": "display_data"
    }
   ],
   "source": [
    "summary(df) # summary of df"
   ]
  },
  {
   "cell_type": "code",
   "execution_count": 28,
   "metadata": {},
   "outputs": [
    {
     "name": "stderr",
     "output_type": "stream",
     "text": [
      "Warning message:\n",
      "\"package 'lubridate' was built under R version 3.6.3\"\n",
      "Attaching package: 'lubridate'\n",
      "\n",
      "The following objects are masked from 'package:base':\n",
      "\n",
      "    date, intersect, setdiff, union\n",
      "\n"
     ]
    }
   ],
   "source": [
    "## Create DAYS, MONTHS AND YEARS columns\n",
    "library(lubridate) #Package for processing Datetime variables"
   ]
  },
  {
   "cell_type": "code",
   "execution_count": 29,
   "metadata": {},
   "outputs": [
    {
     "data": {
      "text/html": [
       "<ol class=list-inline>\n",
       "\t<li>Wed</li>\n",
       "\t<li>Tue</li>\n",
       "\t<li>Mon</li>\n",
       "\t<li>Fri</li>\n",
       "\t<li>Sat</li>\n",
       "\t<li>Sun</li>\n",
       "</ol>\n",
       "\n",
       "<details>\n",
       "\t<summary style=display:list-item;cursor:pointer>\n",
       "\t\t<strong>Levels</strong>:\n",
       "\t</summary>\n",
       "\t<ol class=list-inline>\n",
       "\t\t<li>'Sun'</li>\n",
       "\t\t<li>'Mon'</li>\n",
       "\t\t<li>'Tue'</li>\n",
       "\t\t<li>'Wed'</li>\n",
       "\t\t<li>'Thu'</li>\n",
       "\t\t<li>'Fri'</li>\n",
       "\t\t<li>'Sat'</li>\n",
       "\t</ol>\n",
       "</details>"
      ],
      "text/latex": [
       "\\begin{enumerate*}\n",
       "\\item Wed\n",
       "\\item Tue\n",
       "\\item Mon\n",
       "\\item Fri\n",
       "\\item Sat\n",
       "\\item Sun\n",
       "\\end{enumerate*}\n",
       "\n",
       "\\emph{Levels}: \\begin{enumerate*}\n",
       "\\item 'Sun'\n",
       "\\item 'Mon'\n",
       "\\item 'Tue'\n",
       "\\item 'Wed'\n",
       "\\item 'Thu'\n",
       "\\item 'Fri'\n",
       "\\item 'Sat'\n",
       "\\end{enumerate*}\n"
      ],
      "text/markdown": [
       "1. Wed\n",
       "2. Tue\n",
       "3. Mon\n",
       "4. Fri\n",
       "5. Sat\n",
       "6. Sun\n",
       "\n",
       "\n",
       "\n",
       "**Levels**: 1. 'Sun'\n",
       "2. 'Mon'\n",
       "3. 'Tue'\n",
       "4. 'Wed'\n",
       "5. 'Thu'\n",
       "6. 'Fri'\n",
       "7. 'Sat'\n",
       "\n",
       "\n"
      ],
      "text/plain": [
       "[1] Wed Tue Mon Fri Sat Sun\n",
       "Levels: Sun < Mon < Tue < Wed < Thu < Fri < Sat"
      ]
     },
     "metadata": {},
     "output_type": "display_data"
    }
   ],
   "source": [
    "df$WEEK_DAY <- wday(df$DATE, label = TRUE) # Weekdays\n",
    "head(df$WEEK_DAY)"
   ]
  },
  {
   "cell_type": "code",
   "execution_count": 30,
   "metadata": {},
   "outputs": [
    {
     "data": {
      "text/html": [
       "<ol class=list-inline>\n",
       "\t<li>Oct</li>\n",
       "\t<li>May</li>\n",
       "\t<li>May</li>\n",
       "\t<li>Aug</li>\n",
       "\t<li>Aug</li>\n",
       "\t<li>May</li>\n",
       "</ol>\n",
       "\n",
       "<details>\n",
       "\t<summary style=display:list-item;cursor:pointer>\n",
       "\t\t<strong>Levels</strong>:\n",
       "\t</summary>\n",
       "\t<ol class=list-inline>\n",
       "\t\t<li>'Jan'</li>\n",
       "\t\t<li>'Feb'</li>\n",
       "\t\t<li>'Mar'</li>\n",
       "\t\t<li>'Apr'</li>\n",
       "\t\t<li>'May'</li>\n",
       "\t\t<li>'Jun'</li>\n",
       "\t\t<li>'Jul'</li>\n",
       "\t\t<li>'Aug'</li>\n",
       "\t\t<li>'Sep'</li>\n",
       "\t\t<li>'Oct'</li>\n",
       "\t\t<li>'Nov'</li>\n",
       "\t\t<li>'Dec'</li>\n",
       "\t</ol>\n",
       "</details>"
      ],
      "text/latex": [
       "\\begin{enumerate*}\n",
       "\\item Oct\n",
       "\\item May\n",
       "\\item May\n",
       "\\item Aug\n",
       "\\item Aug\n",
       "\\item May\n",
       "\\end{enumerate*}\n",
       "\n",
       "\\emph{Levels}: \\begin{enumerate*}\n",
       "\\item 'Jan'\n",
       "\\item 'Feb'\n",
       "\\item 'Mar'\n",
       "\\item 'Apr'\n",
       "\\item 'May'\n",
       "\\item 'Jun'\n",
       "\\item 'Jul'\n",
       "\\item 'Aug'\n",
       "\\item 'Sep'\n",
       "\\item 'Oct'\n",
       "\\item 'Nov'\n",
       "\\item 'Dec'\n",
       "\\end{enumerate*}\n"
      ],
      "text/markdown": [
       "1. Oct\n",
       "2. May\n",
       "3. May\n",
       "4. Aug\n",
       "5. Aug\n",
       "6. May\n",
       "\n",
       "\n",
       "\n",
       "**Levels**: 1. 'Jan'\n",
       "2. 'Feb'\n",
       "3. 'Mar'\n",
       "4. 'Apr'\n",
       "5. 'May'\n",
       "6. 'Jun'\n",
       "7. 'Jul'\n",
       "8. 'Aug'\n",
       "9. 'Sep'\n",
       "10. 'Oct'\n",
       "11. 'Nov'\n",
       "12. 'Dec'\n",
       "\n",
       "\n"
      ],
      "text/plain": [
       "[1] Oct May May Aug Aug May\n",
       "12 Levels: Jan < Feb < Mar < Apr < May < Jun < Jul < Aug < Sep < ... < Dec"
      ]
     },
     "metadata": {},
     "output_type": "display_data"
    }
   ],
   "source": [
    "df$MONTHS <- month(df$DATE, label = TRUE) #Months\n",
    "head(df$MONTHS)"
   ]
  },
  {
   "cell_type": "code",
   "execution_count": 81,
   "metadata": {},
   "outputs": [
    {
     "data": {
      "text/html": [
       "<ol class=list-inline>\n",
       "\t<li>2018</li>\n",
       "\t<li>2019</li>\n",
       "\t<li>2019</li>\n",
       "\t<li>2018</li>\n",
       "\t<li>2018</li>\n",
       "\t<li>2019</li>\n",
       "</ol>\n"
      ],
      "text/latex": [
       "\\begin{enumerate*}\n",
       "\\item 2018\n",
       "\\item 2019\n",
       "\\item 2019\n",
       "\\item 2018\n",
       "\\item 2018\n",
       "\\item 2019\n",
       "\\end{enumerate*}\n"
      ],
      "text/markdown": [
       "1. 2018\n",
       "2. 2019\n",
       "3. 2019\n",
       "4. 2018\n",
       "5. 2018\n",
       "6. 2019\n",
       "\n",
       "\n"
      ],
      "text/plain": [
       "[1] 2018 2019 2019 2018 2018 2019"
      ]
     },
     "metadata": {},
     "output_type": "display_data"
    }
   ],
   "source": [
    "df$YEARS <- year(df$DATE) # Years\n",
    "head(df$YEARS)"
   ]
  },
  {
   "cell_type": "code",
   "execution_count": 31,
   "metadata": {},
   "outputs": [
    {
     "name": "stderr",
     "output_type": "stream",
     "text": [
      "Warning message:\n",
      "\"package 'ggplot2' was built under R version 3.6.3\""
     ]
    }
   ],
   "source": [
    "# Frequency distribution of Total Sales\n",
    "library(ggplot2) #Import visualization library"
   ]
  },
  {
   "cell_type": "code",
   "execution_count": 56,
   "metadata": {},
   "outputs": [
    {
     "data": {
      "image/png": "[encoded data removed]",
      "text/plain": [
       "plot without title"
      ]
     },
     "metadata": {},
     "output_type": "display_data"
    }
   ],
   "source": [
    "ggplot(df, aes(x = TOT_SALES)) + geom_histogram( bins = 15, fill = 'white', colour = \"purple\")  +\n",
    "    ggtitle(\"Frequency Distribution of Total Sales\")"
   ]
  },
  {
   "cell_type": "code",
   "execution_count": 53,
   "metadata": {},
   "outputs": [
    {
     "data": {
      "image/png": "[encoded data removed]",
      "text/plain": [
       "plot without title"
      ]
     },
     "metadata": {},
     "output_type": "display_data"
    }
   ],
   "source": [
    "ggplot(df, aes(x = TOT_SALES, colour = PREMIUM_CUSTOMER)) + geom_histogram( bins = 30, fill = 'white') +\n",
    "    ggtitle(\"Frequency Distribution of Total Sales across Customer categories\") + facet_wrap(~PREMIUM_CUSTOMER, nrow = 3)"
   ]
  },
  {
   "cell_type": "markdown",
   "metadata": {},
   "source": [
    "The frequency distribution across the 3 customer categories is right skewed and very similar."
   ]
  },
  {
   "cell_type": "code",
   "execution_count": 66,
   "metadata": {},
   "outputs": [
    {
     "data": {
      "image/png": "[encoded data removed]",
      "text/plain": [
       "plot without title"
      ]
     },
     "metadata": {},
     "output_type": "display_data"
    }
   ],
   "source": [
    "## Boxplot across customer categories\n",
    "ggplot(df) + geom_boxplot(aes(x = PREMIUM_CUSTOMER, y = TOT_SALES, colour = PREMIUM_CUSTOMER)) + ggtitle('Boxplot across customer categories')"
   ]
  },
  {
   "cell_type": "code",
   "execution_count": 72,
   "metadata": {},
   "outputs": [
    {
     "data": {
      "image/png": "[encoded data removed]",
      "text/plain": [
       "plot without title"
      ]
     },
     "metadata": {},
     "output_type": "display_data"
    }
   ],
   "source": [
    "## Boxplot across life stage of customer categories\n",
    "\n",
    "ggplot(df) + geom_boxplot(aes(x = LIFESTAGE, y = TOT_SALES, colour = LIFESTAGE)) + \n",
    "    ggtitle('Boxplot across life stage of customer categories') + scale_x_discrete(guide = guide_axis(angle = 90)) + scale_color_brewer(palette=\"Dark2\")"
   ]
  },
  {
   "cell_type": "markdown",
   "metadata": {},
   "source": [
    "Distribution of Total Sales across each customer's Life stage is fairly similar"
   ]
  },
  {
   "cell_type": "code",
   "execution_count": 139,
   "metadata": {},
   "outputs": [
    {
     "name": "stderr",
     "output_type": "stream",
     "text": [
      "`summarise()` ungrouping output (override with `.groups` argument)\n"
     ]
    },
    {
     "data": {
      "text/html": [
       "<table>\n",
       "<thead><tr><th scope=col>LYLTY_CARD_NBR</th><th scope=col>AVG_SALES</th></tr></thead>\n",
       "<tbody>\n",
       "\t<tr><td>44350 </td><td>29.50 </td></tr>\n",
       "\t<tr><td>66014 </td><td>28.50 </td></tr>\n",
       "\t<tr><td>154199</td><td>28.50 </td></tr>\n",
       "\t<tr><td>29093 </td><td>27.00 </td></tr>\n",
       "\t<tr><td>36221 </td><td>27.00 </td></tr>\n",
       "\t<tr><td>54225 </td><td>27.00 </td></tr>\n",
       "\t<tr><td>60198 </td><td>27.00 </td></tr>\n",
       "\t<tr><td>82189 </td><td>27.00 </td></tr>\n",
       "\t<tr><td>149267</td><td>27.00 </td></tr>\n",
       "\t<tr><td>68078 </td><td>25.50 </td></tr>\n",
       "\t<tr><td>182073</td><td>25.50 </td></tr>\n",
       "\t<tr><td>132508</td><td>23.00 </td></tr>\n",
       "\t<tr><td>214498</td><td>23.00 </td></tr>\n",
       "\t<tr><td>27179 </td><td>22.80 </td></tr>\n",
       "\t<tr><td>87245 </td><td>22.80 </td></tr>\n",
       "\t<tr><td>131357</td><td>21.60 </td></tr>\n",
       "\t<tr><td>170173</td><td>21.60 </td></tr>\n",
       "\t<tr><td>256463</td><td>21.60 </td></tr>\n",
       "\t<tr><td>96203 </td><td>19.65 </td></tr>\n",
       "\t<tr><td>9459  </td><td>19.50 </td></tr>\n",
       "</tbody>\n",
       "</table>\n"
      ],
      "text/latex": [
       "\\begin{tabular}{r|ll}\n",
       " LYLTY\\_CARD\\_NBR & AVG\\_SALES\\\\\n",
       "\\hline\n",
       "\t 44350  & 29.50 \\\\\n",
       "\t 66014  & 28.50 \\\\\n",
       "\t 154199 & 28.50 \\\\\n",
       "\t 29093  & 27.00 \\\\\n",
       "\t 36221  & 27.00 \\\\\n",
       "\t 54225  & 27.00 \\\\\n",
       "\t 60198  & 27.00 \\\\\n",
       "\t 82189  & 27.00 \\\\\n",
       "\t 149267 & 27.00 \\\\\n",
       "\t 68078  & 25.50 \\\\\n",
       "\t 182073 & 25.50 \\\\\n",
       "\t 132508 & 23.00 \\\\\n",
       "\t 214498 & 23.00 \\\\\n",
       "\t 27179  & 22.80 \\\\\n",
       "\t 87245  & 22.80 \\\\\n",
       "\t 131357 & 21.60 \\\\\n",
       "\t 170173 & 21.60 \\\\\n",
       "\t 256463 & 21.60 \\\\\n",
       "\t 96203  & 19.65 \\\\\n",
       "\t 9459   & 19.50 \\\\\n",
       "\\end{tabular}\n"
      ],
      "text/markdown": [
       "\n",
       "| LYLTY_CARD_NBR | AVG_SALES |\n",
       "|---|---|\n",
       "| 44350  | 29.50  |\n",
       "| 66014  | 28.50  |\n",
       "| 154199 | 28.50  |\n",
       "| 29093  | 27.00  |\n",
       "| 36221  | 27.00  |\n",
       "| 54225  | 27.00  |\n",
       "| 60198  | 27.00  |\n",
       "| 82189  | 27.00  |\n",
       "| 149267 | 27.00  |\n",
       "| 68078  | 25.50  |\n",
       "| 182073 | 25.50  |\n",
       "| 132508 | 23.00  |\n",
       "| 214498 | 23.00  |\n",
       "| 27179  | 22.80  |\n",
       "| 87245  | 22.80  |\n",
       "| 131357 | 21.60  |\n",
       "| 170173 | 21.60  |\n",
       "| 256463 | 21.60  |\n",
       "| 96203  | 19.65  |\n",
       "| 9459   | 19.50  |\n",
       "\n"
      ],
      "text/plain": [
       "   LYLTY_CARD_NBR AVG_SALES\n",
       "1  44350          29.50    \n",
       "2  66014          28.50    \n",
       "3  154199         28.50    \n",
       "4  29093          27.00    \n",
       "5  36221          27.00    \n",
       "6  54225          27.00    \n",
       "7  60198          27.00    \n",
       "8  82189          27.00    \n",
       "9  149267         27.00    \n",
       "10 68078          25.50    \n",
       "11 182073         25.50    \n",
       "12 132508         23.00    \n",
       "13 214498         23.00    \n",
       "14 27179          22.80    \n",
       "15 87245          22.80    \n",
       "16 131357         21.60    \n",
       "17 170173         21.60    \n",
       "18 256463         21.60    \n",
       "19 96203          19.65    \n",
       "20 9459           19.50    "
      ]
     },
     "metadata": {},
     "output_type": "display_data"
    }
   ],
   "source": [
    "# Top 20 performing customers\n",
    "(top_cust <- df %>% group_by(LYLTY_CARD_NBR) %>% summarise(AVG_SALES = mean(TOT_SALES)) %>%\n",
    "    arrange(desc(AVG_SALES)) %>% head(20))"
   ]
  },
  {
   "cell_type": "code",
   "execution_count": 142,
   "metadata": {},
   "outputs": [
    {
     "data": {
      "image/png": "[encoded data removed]",
      "text/plain": [
       "plot without title"
      ]
     },
     "metadata": {},
     "output_type": "display_data"
    }
   ],
   "source": [
    "ggplot(top_cust) + geom_col(aes(x = LYLTY_CARD_NBR, y = AVG_SALES, fill = LYLTY_CARD_NBR)) + \n",
    "scale_x_discrete(guide = guide_axis(angle = 90)) + coord_cartesian(ylim = c(18, 30)) + ggtitle('Top 20 best customers')"
   ]
  },
  {
   "cell_type": "markdown",
   "metadata": {},
   "source": [
    "customer with loyalty card number 44350 spent the most in this analysis"
   ]
  },
  {
   "cell_type": "code",
   "execution_count": 71,
   "metadata": {},
   "outputs": [
    {
     "name": "stderr",
     "output_type": "stream",
     "text": [
      "`summarise()` ungrouping output (override with `.groups` argument)\n"
     ]
    },
    {
     "data": {
      "text/html": [
       "<table>\n",
       "<thead><tr><th scope=col>LYLTY_CARD_NBR</th><th scope=col>AVG_SALES</th></tr></thead>\n",
       "<tbody>\n",
       "\t<tr><td>29093   </td><td>27.00000</td></tr>\n",
       "\t<tr><td>170173  </td><td>21.60000</td></tr>\n",
       "\t<tr><td>256463  </td><td>21.60000</td></tr>\n",
       "\t<tr><td>242048  </td><td>19.20000</td></tr>\n",
       "\t<tr><td>264149  </td><td>18.50000</td></tr>\n",
       "\t<tr><td>34259   </td><td>16.10000</td></tr>\n",
       "\t<tr><td>84067   </td><td>15.86667</td></tr>\n",
       "\t<tr><td>148109  </td><td>15.30000</td></tr>\n",
       "\t<tr><td>12315   </td><td>14.80000</td></tr>\n",
       "\t<tr><td>84217   </td><td>14.80000</td></tr>\n",
       "</tbody>\n",
       "</table>\n"
      ],
      "text/latex": [
       "\\begin{tabular}{r|ll}\n",
       " LYLTY\\_CARD\\_NBR & AVG\\_SALES\\\\\n",
       "\\hline\n",
       "\t 29093    & 27.00000\\\\\n",
       "\t 170173   & 21.60000\\\\\n",
       "\t 256463   & 21.60000\\\\\n",
       "\t 242048   & 19.20000\\\\\n",
       "\t 264149   & 18.50000\\\\\n",
       "\t 34259    & 16.10000\\\\\n",
       "\t 84067    & 15.86667\\\\\n",
       "\t 148109   & 15.30000\\\\\n",
       "\t 12315    & 14.80000\\\\\n",
       "\t 84217    & 14.80000\\\\\n",
       "\\end{tabular}\n"
      ],
      "text/markdown": [
       "\n",
       "| LYLTY_CARD_NBR | AVG_SALES |\n",
       "|---|---|\n",
       "| 29093    | 27.00000 |\n",
       "| 170173   | 21.60000 |\n",
       "| 256463   | 21.60000 |\n",
       "| 242048   | 19.20000 |\n",
       "| 264149   | 18.50000 |\n",
       "| 34259    | 16.10000 |\n",
       "| 84067    | 15.86667 |\n",
       "| 148109   | 15.30000 |\n",
       "| 12315    | 14.80000 |\n",
       "| 84217    | 14.80000 |\n",
       "\n"
      ],
      "text/plain": [
       "   LYLTY_CARD_NBR AVG_SALES\n",
       "1  29093          27.00000 \n",
       "2  170173         21.60000 \n",
       "3  256463         21.60000 \n",
       "4  242048         19.20000 \n",
       "5  264149         18.50000 \n",
       "6  34259          16.10000 \n",
       "7  84067          15.86667 \n",
       "8  148109         15.30000 \n",
       "9  12315          14.80000 \n",
       "10 84217          14.80000 "
      ]
     },
     "metadata": {},
     "output_type": "display_data"
    }
   ],
   "source": [
    "## Top ten performing Premium customers\n",
    "(top_cust_prem <- df %>% filter(PREMIUM_CUSTOMER == 'Premium') %>% \n",
    "     group_by(LYLTY_CARD_NBR) %>% summarise(AVG_SALES = mean(TOT_SALES)) %>% arrange(desc(AVG_SALES)) %>% head(10))"
   ]
  },
  {
   "cell_type": "code",
   "execution_count": 73,
   "metadata": {},
   "outputs": [
    {
     "name": "stderr",
     "output_type": "stream",
     "text": [
      "`summarise()` ungrouping output (override with `.groups` argument)\n"
     ]
    },
    {
     "data": {
      "text/html": [
       "<table>\n",
       "<thead><tr><th scope=col>LYLTY_CARD_NBR</th><th scope=col>AVG_SALES</th></tr></thead>\n",
       "<tbody>\n",
       "\t<tr><td>54225 </td><td>27.0  </td></tr>\n",
       "\t<tr><td>60198 </td><td>27.0  </td></tr>\n",
       "\t<tr><td>82189 </td><td>27.0  </td></tr>\n",
       "\t<tr><td>132508</td><td>23.0  </td></tr>\n",
       "\t<tr><td>214498</td><td>23.0  </td></tr>\n",
       "\t<tr><td>87245 </td><td>22.8  </td></tr>\n",
       "\t<tr><td>9459  </td><td>19.5  </td></tr>\n",
       "\t<tr><td>64064 </td><td>18.5  </td></tr>\n",
       "\t<tr><td>111227</td><td>18.5  </td></tr>\n",
       "\t<tr><td>141276</td><td>18.5  </td></tr>\n",
       "</tbody>\n",
       "</table>\n"
      ],
      "text/latex": [
       "\\begin{tabular}{r|ll}\n",
       " LYLTY\\_CARD\\_NBR & AVG\\_SALES\\\\\n",
       "\\hline\n",
       "\t 54225  & 27.0  \\\\\n",
       "\t 60198  & 27.0  \\\\\n",
       "\t 82189  & 27.0  \\\\\n",
       "\t 132508 & 23.0  \\\\\n",
       "\t 214498 & 23.0  \\\\\n",
       "\t 87245  & 22.8  \\\\\n",
       "\t 9459   & 19.5  \\\\\n",
       "\t 64064  & 18.5  \\\\\n",
       "\t 111227 & 18.5  \\\\\n",
       "\t 141276 & 18.5  \\\\\n",
       "\\end{tabular}\n"
      ],
      "text/markdown": [
       "\n",
       "| LYLTY_CARD_NBR | AVG_SALES |\n",
       "|---|---|\n",
       "| 54225  | 27.0   |\n",
       "| 60198  | 27.0   |\n",
       "| 82189  | 27.0   |\n",
       "| 132508 | 23.0   |\n",
       "| 214498 | 23.0   |\n",
       "| 87245  | 22.8   |\n",
       "| 9459   | 19.5   |\n",
       "| 64064  | 18.5   |\n",
       "| 111227 | 18.5   |\n",
       "| 141276 | 18.5   |\n",
       "\n"
      ],
      "text/plain": [
       "   LYLTY_CARD_NBR AVG_SALES\n",
       "1  54225          27.0     \n",
       "2  60198          27.0     \n",
       "3  82189          27.0     \n",
       "4  132508         23.0     \n",
       "5  214498         23.0     \n",
       "6  87245          22.8     \n",
       "7  9459           19.5     \n",
       "8  64064          18.5     \n",
       "9  111227         18.5     \n",
       "10 141276         18.5     "
      ]
     },
     "metadata": {},
     "output_type": "display_data"
    }
   ],
   "source": [
    "## Top ten performing Mainstream customers\n",
    "(df %>% filter(PREMIUM_CUSTOMER == 'Mainstream') %>% \n",
    "     group_by(LYLTY_CARD_NBR) %>% summarise(AVG_SALES = mean(TOT_SALES)) %>% arrange(desc(AVG_SALES)) %>% head(10))"
   ]
  },
  {
   "cell_type": "code",
   "execution_count": 74,
   "metadata": {},
   "outputs": [
    {
     "name": "stderr",
     "output_type": "stream",
     "text": [
      "`summarise()` ungrouping output (override with `.groups` argument)\n"
     ]
    },
    {
     "data": {
      "text/html": [
       "<table>\n",
       "<thead><tr><th scope=col>LYLTY_CARD_NBR</th><th scope=col>AVG_SALES</th></tr></thead>\n",
       "<tbody>\n",
       "\t<tr><td>44350 </td><td>29.50 </td></tr>\n",
       "\t<tr><td>66014 </td><td>28.50 </td></tr>\n",
       "\t<tr><td>154199</td><td>28.50 </td></tr>\n",
       "\t<tr><td>36221 </td><td>27.00 </td></tr>\n",
       "\t<tr><td>149267</td><td>27.00 </td></tr>\n",
       "\t<tr><td>68078 </td><td>25.50 </td></tr>\n",
       "\t<tr><td>182073</td><td>25.50 </td></tr>\n",
       "\t<tr><td>27179 </td><td>22.80 </td></tr>\n",
       "\t<tr><td>131357</td><td>21.60 </td></tr>\n",
       "\t<tr><td>96203 </td><td>19.65 </td></tr>\n",
       "</tbody>\n",
       "</table>\n"
      ],
      "text/latex": [
       "\\begin{tabular}{r|ll}\n",
       " LYLTY\\_CARD\\_NBR & AVG\\_SALES\\\\\n",
       "\\hline\n",
       "\t 44350  & 29.50 \\\\\n",
       "\t 66014  & 28.50 \\\\\n",
       "\t 154199 & 28.50 \\\\\n",
       "\t 36221  & 27.00 \\\\\n",
       "\t 149267 & 27.00 \\\\\n",
       "\t 68078  & 25.50 \\\\\n",
       "\t 182073 & 25.50 \\\\\n",
       "\t 27179  & 22.80 \\\\\n",
       "\t 131357 & 21.60 \\\\\n",
       "\t 96203  & 19.65 \\\\\n",
       "\\end{tabular}\n"
      ],
      "text/markdown": [
       "\n",
       "| LYLTY_CARD_NBR | AVG_SALES |\n",
       "|---|---|\n",
       "| 44350  | 29.50  |\n",
       "| 66014  | 28.50  |\n",
       "| 154199 | 28.50  |\n",
       "| 36221  | 27.00  |\n",
       "| 149267 | 27.00  |\n",
       "| 68078  | 25.50  |\n",
       "| 182073 | 25.50  |\n",
       "| 27179  | 22.80  |\n",
       "| 131357 | 21.60  |\n",
       "| 96203  | 19.65  |\n",
       "\n"
      ],
      "text/plain": [
       "   LYLTY_CARD_NBR AVG_SALES\n",
       "1  44350          29.50    \n",
       "2  66014          28.50    \n",
       "3  154199         28.50    \n",
       "4  36221          27.00    \n",
       "5  149267         27.00    \n",
       "6  68078          25.50    \n",
       "7  182073         25.50    \n",
       "8  27179          22.80    \n",
       "9  131357         21.60    \n",
       "10 96203          19.65    "
      ]
     },
     "metadata": {},
     "output_type": "display_data"
    }
   ],
   "source": [
    "## Top ten performing Budget customers\n",
    "(df %>% filter(PREMIUM_CUSTOMER == 'Budget') %>% \n",
    "     group_by(LYLTY_CARD_NBR) %>% summarise(AVG_SALES = mean(TOT_SALES)) %>% arrange(desc(AVG_SALES)) %>% head(10))"
   ]
  },
  {
   "cell_type": "markdown",
   "metadata": {},
   "source": [
    "Customers 29093, 54225, 44350 in Premium, Mainstream, Budget customer groups respectively spent the most."
   ]
  },
  {
   "cell_type": "code",
   "execution_count": 75,
   "metadata": {},
   "outputs": [
    {
     "name": "stderr",
     "output_type": "stream",
     "text": [
      "`summarise()` ungrouping output (override with `.groups` argument)\n"
     ]
    },
    {
     "data": {
      "text/html": [
       "<table>\n",
       "<thead><tr><th scope=col>PREMIUM_CUSTOMER</th><th scope=col>AVG_SALES</th></tr></thead>\n",
       "<tbody>\n",
       "\t<tr><td>Mainstream</td><td>7.361157  </td></tr>\n",
       "\t<tr><td>Premium   </td><td>7.263111  </td></tr>\n",
       "\t<tr><td>Budget    </td><td>7.258838  </td></tr>\n",
       "</tbody>\n",
       "</table>\n"
      ],
      "text/latex": [
       "\\begin{tabular}{r|ll}\n",
       " PREMIUM\\_CUSTOMER & AVG\\_SALES\\\\\n",
       "\\hline\n",
       "\t Mainstream & 7.361157  \\\\\n",
       "\t Premium    & 7.263111  \\\\\n",
       "\t Budget     & 7.258838  \\\\\n",
       "\\end{tabular}\n"
      ],
      "text/markdown": [
       "\n",
       "| PREMIUM_CUSTOMER | AVG_SALES |\n",
       "|---|---|\n",
       "| Mainstream | 7.361157   |\n",
       "| Premium    | 7.263111   |\n",
       "| Budget     | 7.258838   |\n",
       "\n"
      ],
      "text/plain": [
       "  PREMIUM_CUSTOMER AVG_SALES\n",
       "1 Mainstream       7.361157 \n",
       "2 Premium          7.263111 \n",
       "3 Budget           7.258838 "
      ]
     },
     "metadata": {},
     "output_type": "display_data"
    }
   ],
   "source": [
    "# Which Customer group spends the most on chips?\n",
    "df %>% group_by(PREMIUM_CUSTOMER) %>% summarise(AVG_SALES = mean(TOT_SALES)) %>% arrange(desc(AVG_SALES))"
   ]
  },
  {
   "cell_type": "code",
   "execution_count": 77,
   "metadata": {},
   "outputs": [
    {
     "data": {
      "text/plain": [
       "\n",
       "    Budget Mainstream    Premium \n",
       "        35         39         26 "
      ]
     },
     "metadata": {},
     "output_type": "display_data"
    }
   ],
   "source": [
    "## Check the proportion of customers represented across this group\n",
    "round(prop.table(table(df$PREMIUM_CUSTOMER))*100)"
   ]
  },
  {
   "cell_type": "markdown",
   "metadata": {},
   "source": [
    "Surprisingly Mainstream customers spent the most on chips, but this expected as we have an imbalanced dataset with Mainstream customers accounting for 39% of the total customers or maybe rich customers are just not interested in chips."
   ]
  },
  {
   "cell_type": "code",
   "execution_count": 78,
   "metadata": {},
   "outputs": [
    {
     "name": "stderr",
     "output_type": "stream",
     "text": [
      "`summarise()` ungrouping output (override with `.groups` argument)\n"
     ]
    },
    {
     "data": {
      "text/html": [
       "<table>\n",
       "<thead><tr><th scope=col>LIFESTAGE</th><th scope=col>AVG_SALES</th></tr></thead>\n",
       "<tbody>\n",
       "\t<tr><td>OLDER SINGLES/COUPLES </td><td>7.386819              </td></tr>\n",
       "\t<tr><td>RETIREES              </td><td>7.364434              </td></tr>\n",
       "\t<tr><td>MIDAGE SINGLES/COUPLES</td><td>7.357678              </td></tr>\n",
       "\t<tr><td>NEW FAMILIES          </td><td>7.289124              </td></tr>\n",
       "\t<tr><td>OLDER FAMILIES        </td><td>7.253307              </td></tr>\n",
       "\t<tr><td>YOUNG FAMILIES        </td><td>7.252709              </td></tr>\n",
       "\t<tr><td>YOUNG SINGLES/COUPLES </td><td>7.158515              </td></tr>\n",
       "</tbody>\n",
       "</table>\n"
      ],
      "text/latex": [
       "\\begin{tabular}{r|ll}\n",
       " LIFESTAGE & AVG\\_SALES\\\\\n",
       "\\hline\n",
       "\t OLDER SINGLES/COUPLES  & 7.386819              \\\\\n",
       "\t RETIREES               & 7.364434              \\\\\n",
       "\t MIDAGE SINGLES/COUPLES & 7.357678              \\\\\n",
       "\t NEW FAMILIES           & 7.289124              \\\\\n",
       "\t OLDER FAMILIES         & 7.253307              \\\\\n",
       "\t YOUNG FAMILIES         & 7.252709              \\\\\n",
       "\t YOUNG SINGLES/COUPLES  & 7.158515              \\\\\n",
       "\\end{tabular}\n"
      ],
      "text/markdown": [
       "\n",
       "| LIFESTAGE | AVG_SALES |\n",
       "|---|---|\n",
       "| OLDER SINGLES/COUPLES  | 7.386819               |\n",
       "| RETIREES               | 7.364434               |\n",
       "| MIDAGE SINGLES/COUPLES | 7.357678               |\n",
       "| NEW FAMILIES           | 7.289124               |\n",
       "| OLDER FAMILIES         | 7.253307               |\n",
       "| YOUNG FAMILIES         | 7.252709               |\n",
       "| YOUNG SINGLES/COUPLES  | 7.158515               |\n",
       "\n"
      ],
      "text/plain": [
       "  LIFESTAGE              AVG_SALES\n",
       "1 OLDER SINGLES/COUPLES  7.386819 \n",
       "2 RETIREES               7.364434 \n",
       "3 MIDAGE SINGLES/COUPLES 7.357678 \n",
       "4 NEW FAMILIES           7.289124 \n",
       "5 OLDER FAMILIES         7.253307 \n",
       "6 YOUNG FAMILIES         7.252709 \n",
       "7 YOUNG SINGLES/COUPLES  7.158515 "
      ]
     },
     "metadata": {},
     "output_type": "display_data"
    }
   ],
   "source": [
    "# Which life stage customer spends the most on chips?\n",
    "df %>% group_by(LIFESTAGE) %>% summarise(AVG_SALES = mean(TOT_SALES)) %>% arrange(desc(AVG_SALES))"
   ]
  },
  {
   "cell_type": "code",
   "execution_count": 79,
   "metadata": {},
   "outputs": [
    {
     "data": {
      "text/plain": [
       "\n",
       "MIDAGE SINGLES/COUPLES           NEW FAMILIES         OLDER FAMILIES \n",
       "                     9                      3                     18 \n",
       " OLDER SINGLES/COUPLES               RETIREES         YOUNG FAMILIES \n",
       "                    21                     19                     16 \n",
       " YOUNG SINGLES/COUPLES \n",
       "                    14 "
      ]
     },
     "metadata": {},
     "output_type": "display_data"
    }
   ],
   "source": [
    "## Check the proportion of customers represented across this group\n",
    "round(prop.table(table(df$LIFESTAGE))*100)"
   ]
  },
  {
   "cell_type": "markdown",
   "metadata": {},
   "source": [
    "Old Singles/ Couples are the most interested in chips (interesting). Wonder why the young singles/couples don't like chips?"
   ]
  },
  {
   "cell_type": "code",
   "execution_count": 82,
   "metadata": {},
   "outputs": [
    {
     "name": "stdout",
     "output_type": "stream",
     "text": [
      " Ord.factor w/ 7 levels \"Sun\"<\"Mon\"<\"Tue\"<..: 4 3 2 6 7 1 5 5 2 7 ...\n"
     ]
    }
   ],
   "source": [
    "# What days do people buy chips the most\n",
    "str(df$WEEK_DAY)"
   ]
  },
  {
   "cell_type": "code",
   "execution_count": 83,
   "metadata": {},
   "outputs": [
    {
     "name": "stderr",
     "output_type": "stream",
     "text": [
      "`summarise()` ungrouping output (override with `.groups` argument)\n"
     ]
    },
    {
     "data": {
      "text/html": [
       "<table>\n",
       "<thead><tr><th scope=col>WEEK_DAY</th><th scope=col>AVG_SALES</th></tr></thead>\n",
       "<tbody>\n",
       "\t<tr><td>Wed     </td><td>7.316646</td></tr>\n",
       "\t<tr><td>Fri     </td><td>7.315779</td></tr>\n",
       "\t<tr><td>Sun     </td><td>7.298690</td></tr>\n",
       "\t<tr><td>Mon     </td><td>7.294861</td></tr>\n",
       "\t<tr><td>Thu     </td><td>7.292675</td></tr>\n",
       "\t<tr><td>Sat     </td><td>7.289025</td></tr>\n",
       "\t<tr><td>Tue     </td><td>7.287322</td></tr>\n",
       "</tbody>\n",
       "</table>\n"
      ],
      "text/latex": [
       "\\begin{tabular}{r|ll}\n",
       " WEEK\\_DAY & AVG\\_SALES\\\\\n",
       "\\hline\n",
       "\t Wed      & 7.316646\\\\\n",
       "\t Fri      & 7.315779\\\\\n",
       "\t Sun      & 7.298690\\\\\n",
       "\t Mon      & 7.294861\\\\\n",
       "\t Thu      & 7.292675\\\\\n",
       "\t Sat      & 7.289025\\\\\n",
       "\t Tue      & 7.287322\\\\\n",
       "\\end{tabular}\n"
      ],
      "text/markdown": [
       "\n",
       "| WEEK_DAY | AVG_SALES |\n",
       "|---|---|\n",
       "| Wed      | 7.316646 |\n",
       "| Fri      | 7.315779 |\n",
       "| Sun      | 7.298690 |\n",
       "| Mon      | 7.294861 |\n",
       "| Thu      | 7.292675 |\n",
       "| Sat      | 7.289025 |\n",
       "| Tue      | 7.287322 |\n",
       "\n"
      ],
      "text/plain": [
       "  WEEK_DAY AVG_SALES\n",
       "1 Wed      7.316646 \n",
       "2 Fri      7.315779 \n",
       "3 Sun      7.298690 \n",
       "4 Mon      7.294861 \n",
       "5 Thu      7.292675 \n",
       "6 Sat      7.289025 \n",
       "7 Tue      7.287322 "
      ]
     },
     "metadata": {},
     "output_type": "display_data"
    }
   ],
   "source": [
    "df %>% group_by(WEEK_DAY) %>% summarise(AVG_SALES = mean(TOT_SALES)) %>% arrange(desc(AVG_SALES))"
   ]
  },
  {
   "cell_type": "markdown",
   "metadata": {},
   "source": [
    "Wednessday has the highest average chips sales"
   ]
  },
  {
   "cell_type": "code",
   "execution_count": 119,
   "metadata": {},
   "outputs": [
    {
     "data": {
      "text/html": [
       "<ol class=list-inline>\n",
       "\t<li>'2018-10'</li>\n",
       "\t<li>'2019-05'</li>\n",
       "\t<li>'2019-05'</li>\n",
       "\t<li>'2018-08'</li>\n",
       "\t<li>'2018-08'</li>\n",
       "\t<li>'2019-05'</li>\n",
       "</ol>\n"
      ],
      "text/latex": [
       "\\begin{enumerate*}\n",
       "\\item '2018-10'\n",
       "\\item '2019-05'\n",
       "\\item '2019-05'\n",
       "\\item '2018-08'\n",
       "\\item '2018-08'\n",
       "\\item '2019-05'\n",
       "\\end{enumerate*}\n"
      ],
      "text/markdown": [
       "1. '2018-10'\n",
       "2. '2019-05'\n",
       "3. '2019-05'\n",
       "4. '2018-08'\n",
       "5. '2018-08'\n",
       "6. '2019-05'\n",
       "\n",
       "\n"
      ],
      "text/plain": [
       "[1] \"2018-10\" \"2019-05\" \"2019-05\" \"2018-08\" \"2018-08\" \"2019-05\""
      ]
     },
     "metadata": {},
     "output_type": "display_data"
    }
   ],
   "source": [
    "## Monthly sales\n",
    "## create month-year column\n",
    "df$MONTH_YEAR <- format_ISO8601(df$DATE, precision = \"ym\")\n",
    "head(df$MONTH_YEAR)"
   ]
  },
  {
   "cell_type": "code",
   "execution_count": 120,
   "metadata": {},
   "outputs": [
    {
     "name": "stderr",
     "output_type": "stream",
     "text": [
      "`summarise()` ungrouping output (override with `.groups` argument)\n"
     ]
    },
    {
     "data": {
      "text/html": [
       "<table>\n",
       "<thead><tr><th scope=col>MONTH_YEAR</th><th scope=col>TOTAL</th></tr></thead>\n",
       "<tbody>\n",
       "\t<tr><td>2018-07 </td><td>165275.3</td></tr>\n",
       "\t<tr><td>2018-08 </td><td>158064.2</td></tr>\n",
       "\t<tr><td>2018-09 </td><td>160522.0</td></tr>\n",
       "\t<tr><td>2018-10 </td><td>164415.7</td></tr>\n",
       "\t<tr><td>2018-11 </td><td>160230.7</td></tr>\n",
       "\t<tr><td>2018-12 </td><td>167908.6</td></tr>\n",
       "\t<tr><td>2019-01 </td><td>162642.3</td></tr>\n",
       "\t<tr><td>2019-02 </td><td>150665.0</td></tr>\n",
       "\t<tr><td>2019-03 </td><td>166260.0</td></tr>\n",
       "\t<tr><td>2019-04 </td><td>159845.1</td></tr>\n",
       "\t<tr><td>2019-05 </td><td>156717.6</td></tr>\n",
       "\t<tr><td>2019-06 </td><td>160529.4</td></tr>\n",
       "</tbody>\n",
       "</table>\n"
      ],
      "text/latex": [
       "\\begin{tabular}{r|ll}\n",
       " MONTH\\_YEAR & TOTAL\\\\\n",
       "\\hline\n",
       "\t 2018-07  & 165275.3\\\\\n",
       "\t 2018-08  & 158064.2\\\\\n",
       "\t 2018-09  & 160522.0\\\\\n",
       "\t 2018-10  & 164415.7\\\\\n",
       "\t 2018-11  & 160230.7\\\\\n",
       "\t 2018-12  & 167908.6\\\\\n",
       "\t 2019-01  & 162642.3\\\\\n",
       "\t 2019-02  & 150665.0\\\\\n",
       "\t 2019-03  & 166260.0\\\\\n",
       "\t 2019-04  & 159845.1\\\\\n",
       "\t 2019-05  & 156717.6\\\\\n",
       "\t 2019-06  & 160529.4\\\\\n",
       "\\end{tabular}\n"
      ],
      "text/markdown": [
       "\n",
       "| MONTH_YEAR | TOTAL |\n",
       "|---|---|\n",
       "| 2018-07  | 165275.3 |\n",
       "| 2018-08  | 158064.2 |\n",
       "| 2018-09  | 160522.0 |\n",
       "| 2018-10  | 164415.7 |\n",
       "| 2018-11  | 160230.7 |\n",
       "| 2018-12  | 167908.6 |\n",
       "| 2019-01  | 162642.3 |\n",
       "| 2019-02  | 150665.0 |\n",
       "| 2019-03  | 166260.0 |\n",
       "| 2019-04  | 159845.1 |\n",
       "| 2019-05  | 156717.6 |\n",
       "| 2019-06  | 160529.4 |\n",
       "\n"
      ],
      "text/plain": [
       "   MONTH_YEAR TOTAL   \n",
       "1  2018-07    165275.3\n",
       "2  2018-08    158064.2\n",
       "3  2018-09    160522.0\n",
       "4  2018-10    164415.7\n",
       "5  2018-11    160230.7\n",
       "6  2018-12    167908.6\n",
       "7  2019-01    162642.3\n",
       "8  2019-02    150665.0\n",
       "9  2019-03    166260.0\n",
       "10 2019-04    159845.1\n",
       "11 2019-05    156717.6\n",
       "12 2019-06    160529.4"
      ]
     },
     "metadata": {},
     "output_type": "display_data"
    }
   ],
   "source": [
    "(sale_month <- df %>% group_by(MONTH_YEAR) %>% summarise(TOTAL = sum(TOT_SALES)))"
   ]
  },
  {
   "cell_type": "code",
   "execution_count": 144,
   "metadata": {},
   "outputs": [
    {
     "data": {
      "image/png": "[encoded data removed]",
      "text/plain": [
       "plot without title"
      ]
     },
     "metadata": {},
     "output_type": "display_data"
    }
   ],
   "source": [
    "ggplot(sale_month) + geom_col(aes(x = MONTH_YEAR, y = TOTAL, fill = MONTH_YEAR)) +\n",
    "    scale_x_discrete(guide = guide_axis(angle = 90)) + coord_cartesian(ylim = c(145000, 170000)) +\n",
    "        ggtitle(\"Monthly Sales of Chips\")"
   ]
  },
  {
   "cell_type": "markdown",
   "metadata": {},
   "source": [
    "December 2018 had the highest sales."
   ]
  },
  {
   "cell_type": "code",
   "execution_count": 160,
   "metadata": {},
   "outputs": [],
   "source": [
    "# What chip sizes are the most bought?\n",
    "## Create a new column having chip sizes\n",
    "suppressWarnings(library(tidyverse)) "
   ]
  },
  {
   "cell_type": "code",
   "execution_count": 166,
   "metadata": {},
   "outputs": [
    {
     "name": "stderr",
     "output_type": "stream",
     "text": [
      "extract_numeric() is deprecated: please use readr::parse_number() instead\n"
     ]
    }
   ],
   "source": [
    "df$SIZE <- extract_numeric(df$PROD_NAME)\n"
   ]
  },
  {
   "cell_type": "code",
   "execution_count": 167,
   "metadata": {},
   "outputs": [
    {
     "data": {
      "text/html": [
       "<ol class=list-inline>\n",
       "\t<li>175</li>\n",
       "\t<li>175</li>\n",
       "\t<li>170</li>\n",
       "\t<li>175</li>\n",
       "\t<li>150</li>\n",
       "\t<li>300</li>\n",
       "</ol>\n"
      ],
      "text/latex": [
       "\\begin{enumerate*}\n",
       "\\item 175\n",
       "\\item 175\n",
       "\\item 170\n",
       "\\item 175\n",
       "\\item 150\n",
       "\\item 300\n",
       "\\end{enumerate*}\n"
      ],
      "text/markdown": [
       "1. 175\n",
       "2. 175\n",
       "3. 170\n",
       "4. 175\n",
       "5. 150\n",
       "6. 300\n",
       "\n",
       "\n"
      ],
      "text/plain": [
       "[1] 175 175 170 175 150 300"
      ]
     },
     "metadata": {},
     "output_type": "display_data"
    }
   ],
   "source": [
    "head(df$SIZE)"
   ]
  },
  {
   "cell_type": "code",
   "execution_count": 169,
   "metadata": {},
   "outputs": [
    {
     "name": "stdout",
     "output_type": "stream",
     "text": [
      " Factor w/ 21 levels \"70\",\"90\",\"110\",..: 11 11 10 11 7 19 20 15 7 15 ...\n"
     ]
    }
   ],
   "source": [
    "df$SIZE <- factor(df$SIZE)\n",
    "str(df$SIZE)"
   ]
  },
  {
   "cell_type": "code",
   "execution_count": 170,
   "metadata": {},
   "outputs": [
    {
     "name": "stderr",
     "output_type": "stream",
     "text": [
      "`summarise()` ungrouping output (override with `.groups` argument)\n"
     ]
    },
    {
     "data": {
      "text/html": [
       "<table>\n",
       "<thead><tr><th scope=col>SIZE</th><th scope=col>AVG_SALES</th></tr></thead>\n",
       "<tbody>\n",
       "\t<tr><td>380      </td><td>11.754925</td></tr>\n",
       "\t<tr><td>330      </td><td>10.908636</td></tr>\n",
       "\t<tr><td>270      </td><td> 8.818679</td></tr>\n",
       "\t<tr><td>250      </td><td> 8.234995</td></tr>\n",
       "\t<tr><td>135      </td><td> 8.010562</td></tr>\n",
       "\t<tr><td>300      </td><td> 7.472971</td></tr>\n",
       "\t<tr><td>170      </td><td> 7.339889</td></tr>\n",
       "\t<tr><td>175      </td><td> 7.311905</td></tr>\n",
       "\t<tr><td>110      </td><td> 7.270517</td></tr>\n",
       "\t<tr><td>134      </td><td> 7.077344</td></tr>\n",
       "\t<tr><td>150      </td><td> 7.054927</td></tr>\n",
       "\t<tr><td>210      </td><td> 6.863648</td></tr>\n",
       "\t<tr><td>165      </td><td> 6.626175</td></tr>\n",
       "\t<tr><td>180      </td><td> 5.836785</td></tr>\n",
       "\t<tr><td>190      </td><td> 4.812321</td></tr>\n",
       "\t<tr><td>70       </td><td> 4.546614</td></tr>\n",
       "\t<tr><td>220      </td><td> 4.367647</td></tr>\n",
       "\t<tr><td>125      </td><td> 3.942916</td></tr>\n",
       "\t<tr><td>160      </td><td> 3.585051</td></tr>\n",
       "\t<tr><td>200      </td><td> 3.578694</td></tr>\n",
       "\t<tr><td>90       </td><td> 3.216888</td></tr>\n",
       "</tbody>\n",
       "</table>\n"
      ],
      "text/latex": [
       "\\begin{tabular}{r|ll}\n",
       " SIZE & AVG\\_SALES\\\\\n",
       "\\hline\n",
       "\t 380       & 11.754925\\\\\n",
       "\t 330       & 10.908636\\\\\n",
       "\t 270       &  8.818679\\\\\n",
       "\t 250       &  8.234995\\\\\n",
       "\t 135       &  8.010562\\\\\n",
       "\t 300       &  7.472971\\\\\n",
       "\t 170       &  7.339889\\\\\n",
       "\t 175       &  7.311905\\\\\n",
       "\t 110       &  7.270517\\\\\n",
       "\t 134       &  7.077344\\\\\n",
       "\t 150       &  7.054927\\\\\n",
       "\t 210       &  6.863648\\\\\n",
       "\t 165       &  6.626175\\\\\n",
       "\t 180       &  5.836785\\\\\n",
       "\t 190       &  4.812321\\\\\n",
       "\t 70        &  4.546614\\\\\n",
       "\t 220       &  4.367647\\\\\n",
       "\t 125       &  3.942916\\\\\n",
       "\t 160       &  3.585051\\\\\n",
       "\t 200       &  3.578694\\\\\n",
       "\t 90        &  3.216888\\\\\n",
       "\\end{tabular}\n"
      ],
      "text/markdown": [
       "\n",
       "| SIZE | AVG_SALES |\n",
       "|---|---|\n",
       "| 380       | 11.754925 |\n",
       "| 330       | 10.908636 |\n",
       "| 270       |  8.818679 |\n",
       "| 250       |  8.234995 |\n",
       "| 135       |  8.010562 |\n",
       "| 300       |  7.472971 |\n",
       "| 170       |  7.339889 |\n",
       "| 175       |  7.311905 |\n",
       "| 110       |  7.270517 |\n",
       "| 134       |  7.077344 |\n",
       "| 150       |  7.054927 |\n",
       "| 210       |  6.863648 |\n",
       "| 165       |  6.626175 |\n",
       "| 180       |  5.836785 |\n",
       "| 190       |  4.812321 |\n",
       "| 70        |  4.546614 |\n",
       "| 220       |  4.367647 |\n",
       "| 125       |  3.942916 |\n",
       "| 160       |  3.585051 |\n",
       "| 200       |  3.578694 |\n",
       "| 90        |  3.216888 |\n",
       "\n"
      ],
      "text/plain": [
       "   SIZE AVG_SALES\n",
       "1  380  11.754925\n",
       "2  330  10.908636\n",
       "3  270   8.818679\n",
       "4  250   8.234995\n",
       "5  135   8.010562\n",
       "6  300   7.472971\n",
       "7  170   7.339889\n",
       "8  175   7.311905\n",
       "9  110   7.270517\n",
       "10 134   7.077344\n",
       "11 150   7.054927\n",
       "12 210   6.863648\n",
       "13 165   6.626175\n",
       "14 180   5.836785\n",
       "15 190   4.812321\n",
       "16 70    4.546614\n",
       "17 220   4.367647\n",
       "18 125   3.942916\n",
       "19 160   3.585051\n",
       "20 200   3.578694\n",
       "21 90    3.216888"
      ]
     },
     "metadata": {},
     "output_type": "display_data"
    }
   ],
   "source": [
    "df %>% group_by(SIZE) %>% summarise(AVG_SALES = mean(TOT_SALES)) %>% arrange(desc(AVG_SALES))"
   ]
  },
  {
   "cell_type": "markdown",
   "metadata": {},
   "source": [
    "380g had the most sales"
   ]
  },
  {
   "cell_type": "code",
   "execution_count": null,
   "metadata": {},
   "outputs": [],
   "source": []
  }
 ],
 "metadata": {
  "kernelspec": {
   "display_name": "R",
   "language": "R",
   "name": "ir"
  },
  "language_info": {
   "codemirror_mode": "r",
   "file_extension": ".r",
   "mimetype": "text/x-r-source",
   "name": "R",
   "pygments_lexer": "r",
   "version": "3.6.1"
  }
 },
 "nbformat": 4,
 "nbformat_minor": 2
}
